{
  "nbformat": 4,
  "nbformat_minor": 0,
  "metadata": {
    "colab": {
      "name": "Untitled1.ipynb",
      "provenance": [],
      "authorship_tag": "ABX9TyNp6+Ibt4p+vsqKtwLJyK8T",
      "include_colab_link": true
    },
    "kernelspec": {
      "name": "python3",
      "display_name": "Python 3"
    }
  },
  "cells": [
    {
      "cell_type": "markdown",
      "metadata": {
        "id": "view-in-github",
        "colab_type": "text"
      },
      "source": [
        "<a href=\"https://colab.research.google.com/github/shininglight99/ellison-archive/blob/master/fixed%20income.ipynb\" target=\"_parent\"><img src=\"https://colab.research.google.com/assets/colab-badge.svg\" alt=\"Open In Colab\"/></a>"
      ]
    },
    {
      "cell_type": "code",
      "metadata": {
        "id": "kfB_hHT5neJb"
      },
      "source": [
        "import numpy as np\n",
        "import pandas as pd\n",
        "import scipy.optimize as optimize\n",
        "from datetime import datetime\n",
        "\n",
        "#utils\n",
        "\n",
        "def geo_sum(Iam, n):\n",
        "  return Iam *  (1-Iam**n) / (1-Iam)\n",
        "\n",
        "\n",
        "#vanila bond\n",
        "\n",
        "class ZCB:\n",
        "  def __init__(self,F,T,m=2):\n",
        "    self.F=F\n",
        "    self.T=T\n",
        "    self.m=m\n",
        "    self.n=self.m*self.T\n",
        "\n",
        "  def price(self,discount_factor = None, ytm = None, continuous = None):\n",
        "    if ytm:\n",
        "      if continuous:\n",
        "        Iam = np.exp(-ytm/self.m)\n",
        "      else:\n",
        "        Iam = 1/(1 + ytm / self.m)\n",
        "      return self.F *Iam **self.n\n",
        "    \n",
        "    if self.T not in discount_factor:\n",
        "      raise Exception(f\"Discount factor at {self.T} must be given\")\n",
        "    return self.F * discount_factor[self.T]\n",
        "\n",
        "  def ytm(self, price, continuous= False , guess=0.05):\n",
        "    func = lambda ytm: self.price(ytm=ytm , continuous = continuous) -price\n",
        "    return optimize.newton(func, guess)\n",
        "\n",
        "  "
      ],
      "execution_count": null,
      "outputs": []
    },
    {
      "cell_type": "code",
      "metadata": {
        "id": "JR3qEeDGneEa"
      },
      "source": [
        ""
      ],
      "execution_count": 14,
      "outputs": []
    },
    {
      "cell_type": "code",
      "metadata": {
        "id": "oGvUhZM0ngAD"
      },
      "source": [
        ""
      ],
      "execution_count": null,
      "outputs": []
    },
    {
      "cell_type": "code",
      "metadata": {
        "id": "0-p92-pJh4R4"
      },
      "source": [
        "class CouponBond:\n",
        "  def __init__(self, F, T,q, m=2):\n",
        "    self.F=F\n",
        "    self.T=T\n",
        "    self.q=q\n",
        "    self.m = m\n",
        "    self.n = self.m * self.T\n",
        "    self.coupon = self.F * self.q / self.m\n",
        "\n",
        "  def ytm(self, price, k = None, tau=None, continuous = False, guess = 0.05, between_coupon = False):\n",
        "    if between_coupon:\n",
        "      func = lambda ytm : self.full_price(ytm = ytm, k=k, tau = tau, continuous= continuous) - price\n",
        "    else:\n",
        "      func = lambda ytm : self.price(ytm = ytm, continuous = continuous) - price\n",
        "    return optimize.newton(func, guess)\n",
        "    "
      ],
      "execution_count": 7,
      "outputs": []
    },
    {
      "cell_type": "code",
      "metadata": {
        "colab": {
          "base_uri": "https://localhost:8080/",
          "height": 315
        },
        "id": "UYim5rMSg497",
        "outputId": "81135551-e2b1-4487-e904-79824272c4b0"
      },
      "source": [
        "F= 100\n",
        "m = 2\n",
        "q= 0.00875\n",
        "T = 10\n",
        "\n",
        "#coupon bond\n",
        "bond = CouponBond (T= T, q = q, F = F, m = m)\n",
        "price = 98 +4/32\n",
        "print(\"YTM: \", bond.ytm(price=price))\n"
      ],
      "execution_count": 11,
      "outputs": [
        {
          "output_type": "error",
          "ename": "NameError",
          "evalue": "ignored",
          "traceback": [
            "\u001b[0;31m---------------------------------------------------------------------------\u001b[0m",
            "\u001b[0;31mNameError\u001b[0m                                 Traceback (most recent call last)",
            "\u001b[0;32m<ipython-input-11-10034746c2dc>\u001b[0m in \u001b[0;36m<module>\u001b[0;34m()\u001b[0m\n\u001b[1;32m      7\u001b[0m \u001b[0mbond\u001b[0m \u001b[0;34m=\u001b[0m \u001b[0mCouponBond\u001b[0m \u001b[0;34m(\u001b[0m\u001b[0mT\u001b[0m\u001b[0;34m=\u001b[0m \u001b[0mT\u001b[0m\u001b[0;34m,\u001b[0m \u001b[0mq\u001b[0m \u001b[0;34m=\u001b[0m \u001b[0mq\u001b[0m\u001b[0;34m,\u001b[0m \u001b[0mF\u001b[0m \u001b[0;34m=\u001b[0m \u001b[0mF\u001b[0m\u001b[0;34m,\u001b[0m \u001b[0mm\u001b[0m \u001b[0;34m=\u001b[0m \u001b[0mm\u001b[0m\u001b[0;34m)\u001b[0m\u001b[0;34m\u001b[0m\u001b[0;34m\u001b[0m\u001b[0m\n\u001b[1;32m      8\u001b[0m \u001b[0mprice\u001b[0m \u001b[0;34m=\u001b[0m \u001b[0;36m98\u001b[0m \u001b[0;34m+\u001b[0m\u001b[0;36m4\u001b[0m\u001b[0;34m/\u001b[0m\u001b[0;36m32\u001b[0m\u001b[0;34m\u001b[0m\u001b[0;34m\u001b[0m\u001b[0m\n\u001b[0;32m----> 9\u001b[0;31m \u001b[0mprint\u001b[0m\u001b[0;34m(\u001b[0m\u001b[0;34m\"YTM: \"\u001b[0m\u001b[0;34m,\u001b[0m \u001b[0mbond\u001b[0m\u001b[0;34m.\u001b[0m\u001b[0mytm\u001b[0m\u001b[0;34m(\u001b[0m\u001b[0mprice\u001b[0m\u001b[0;34m=\u001b[0m\u001b[0mprice\u001b[0m\u001b[0;34m)\u001b[0m\u001b[0;34m)\u001b[0m\u001b[0;34m\u001b[0m\u001b[0;34m\u001b[0m\u001b[0m\n\u001b[0m",
            "\u001b[0;32m<ipython-input-7-5bac8aa02d66>\u001b[0m in \u001b[0;36mytm\u001b[0;34m(self, price, k, tau, continuous, guess, between_coupon)\u001b[0m\n\u001b[1;32m     13\u001b[0m     \u001b[0;32melse\u001b[0m\u001b[0;34m:\u001b[0m\u001b[0;34m\u001b[0m\u001b[0;34m\u001b[0m\u001b[0m\n\u001b[1;32m     14\u001b[0m       \u001b[0mfunc\u001b[0m \u001b[0;34m=\u001b[0m \u001b[0;32mlambda\u001b[0m \u001b[0mytm\u001b[0m \u001b[0;34m:\u001b[0m \u001b[0mself\u001b[0m\u001b[0;34m.\u001b[0m\u001b[0mprice\u001b[0m\u001b[0;34m(\u001b[0m\u001b[0mytm\u001b[0m \u001b[0;34m=\u001b[0m \u001b[0mytm\u001b[0m\u001b[0;34m,\u001b[0m \u001b[0mcontinuous\u001b[0m \u001b[0;34m=\u001b[0m \u001b[0mcontinuous\u001b[0m\u001b[0;34m)\u001b[0m \u001b[0;34m-\u001b[0m \u001b[0mprice\u001b[0m\u001b[0;34m\u001b[0m\u001b[0;34m\u001b[0m\u001b[0m\n\u001b[0;32m---> 15\u001b[0;31m     \u001b[0;32mreturn\u001b[0m \u001b[0moptimize\u001b[0m\u001b[0;34m.\u001b[0m\u001b[0mnewton\u001b[0m\u001b[0;34m(\u001b[0m\u001b[0mfunc\u001b[0m\u001b[0;34m,\u001b[0m \u001b[0mguess\u001b[0m\u001b[0;34m)\u001b[0m\u001b[0;34m\u001b[0m\u001b[0;34m\u001b[0m\u001b[0m\n\u001b[0m\u001b[1;32m     16\u001b[0m \u001b[0;34m\u001b[0m\u001b[0m\n",
            "\u001b[0;31mNameError\u001b[0m: name 'optimize' is not defined"
          ]
        }
      ]
    },
    {
      "cell_type": "code",
      "metadata": {
        "colab": {
          "base_uri": "https://localhost:8080/",
          "height": 243
        },
        "id": "28hxtWjFk2fO",
        "outputId": "b063f0d6-c07e-4e57-b25b-f02983e37f96"
      },
      "source": [
        "F = 100\n",
        "m = 2\n",
        "q = 0.00875\n",
        "\n",
        "#coupon bond\n",
        "bond= CouponBond(T=T, q=q, F=F, m=m)\n",
        "price = 98 + 4/32\n",
        "\n",
        "reference_date = datetime.today().strftime(\"%Y-%m-%d\")\n",
        "maturity_date = \"2030-11-15\"\n",
        "\n",
        "k, tau = bond.between_coupon(reference_date, maturity_date)\n",
        "\n",
        "print(\"YTM Between Coupon Payment : \", \\\n",
        "      bond.ytm(price=price, k=k, tau=tau, between_coupon= True))\n"
      ],
      "execution_count": 13,
      "outputs": [
        {
          "output_type": "error",
          "ename": "NameError",
          "evalue": "ignored",
          "traceback": [
            "\u001b[0;31m---------------------------------------------------------------------------\u001b[0m",
            "\u001b[0;31mNameError\u001b[0m                                 Traceback (most recent call last)",
            "\u001b[0;32m<ipython-input-13-8e292a79c882>\u001b[0m in \u001b[0;36m<module>\u001b[0;34m()\u001b[0m\n\u001b[1;32m      7\u001b[0m \u001b[0mprice\u001b[0m \u001b[0;34m=\u001b[0m \u001b[0;36m98\u001b[0m \u001b[0;34m+\u001b[0m \u001b[0;36m4\u001b[0m\u001b[0;34m/\u001b[0m\u001b[0;36m32\u001b[0m\u001b[0;34m\u001b[0m\u001b[0;34m\u001b[0m\u001b[0m\n\u001b[1;32m      8\u001b[0m \u001b[0;34m\u001b[0m\u001b[0m\n\u001b[0;32m----> 9\u001b[0;31m \u001b[0mreference_date\u001b[0m \u001b[0;34m=\u001b[0m \u001b[0mdatetime\u001b[0m\u001b[0;34m.\u001b[0m\u001b[0mtoday\u001b[0m\u001b[0;34m(\u001b[0m\u001b[0;34m)\u001b[0m\u001b[0;34m.\u001b[0m\u001b[0mstrftime\u001b[0m\u001b[0;34m(\u001b[0m\u001b[0;34m\"%Y-%m-%d\"\u001b[0m\u001b[0;34m)\u001b[0m\u001b[0;34m\u001b[0m\u001b[0;34m\u001b[0m\u001b[0m\n\u001b[0m\u001b[1;32m     10\u001b[0m \u001b[0mmaturity_date\u001b[0m \u001b[0;34m=\u001b[0m \u001b[0;34m\"2030-11-15\"\u001b[0m\u001b[0;34m\u001b[0m\u001b[0;34m\u001b[0m\u001b[0m\n\u001b[1;32m     11\u001b[0m \u001b[0;34m\u001b[0m\u001b[0m\n",
            "\u001b[0;31mNameError\u001b[0m: name 'datetime' is not defined"
          ]
        }
      ]
    }
  ]
}