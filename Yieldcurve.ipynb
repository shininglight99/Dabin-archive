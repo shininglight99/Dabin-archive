{
  "nbformat": 4,
  "nbformat_minor": 0,
  "metadata": {
    "colab": {
      "name": "Untitled1.ipynb",
      "provenance": [],
      "authorship_tag": "ABX9TyOazBj8xYDYK+dEBKrxORrF",
      "include_colab_link": true
    },
    "kernelspec": {
      "name": "python3",
      "display_name": "Python 3"
    }
  },
  "cells": [
    {
      "cell_type": "markdown",
      "metadata": {
        "id": "view-in-github",
        "colab_type": "text"
      },
      "source": [
        "<a href=\"https://colab.research.google.com/github/shininglight99/ellison-archive/blob/master/Yieldcurve.ipynb\" target=\"_parent\"><img src=\"https://colab.research.google.com/assets/colab-badge.svg\" alt=\"Open In Colab\"/></a>"
      ]
    },
    {
      "cell_type": "code",
      "metadata": {
        "id": "kfB_hHT5neJb"
      },
      "source": [
        "import numpy as np\n",
        "import pandas as pd\n",
        "import scipy.optimize as optimize\n",
        "from datetime import datetime\n",
        "\n",
        "#utils\n",
        "\n",
        "def geo_sum(Iam, n):\n",
        "  return Iam *  (1-Iam**n) / (1-Iam)\n",
        "\n",
        "\n",
        "#vanila bond\n",
        "\n",
        "class ZCB:\n",
        "  def __init__(self,F,T,m=2):\n",
        "    self.F=F\n",
        "    self.T=T\n",
        "    self.m=m\n",
        "    self.n=self.m*self.T\n",
        "\n",
        "  def price(self,discount_factor = None, ytm = None, continuous = None):\n",
        "    if ytm:\n",
        "      if continuous:\n",
        "        Iam = np.exp(-ytm/self.m)\n",
        "      else:\n",
        "        Iam = 1/(1 + ytm / self.m)\n",
        "      return self.F *Iam **self.n\n",
        "    \n",
        "    if self.T not in discount_factor:\n",
        "      raise Exception(f\"Discount factor at {self.T} must be given\")\n",
        "    return self.F * discount_factor[self.T]\n",
        "\n",
        "  def ytm(self, price, continuous= False , guess=0.05):\n",
        "    func = lambda ytm: self.price(ytm=ytm , continuous = continuous) -price\n",
        "    return optimize.newton(func, guess)\n",
        "\n",
        "  def dv01(self, ytm):\n",
        "    if not ytm:\n",
        "      raise Exception(f\"YTM must be given\")\n",
        "      return self.F * self.T *(1+ytm/sef.m)**(self.n + 1) / 10000\n",
        "\n",
        "  def duration(self, ytm):\n",
        "    return self.T / (1 + ytm / self.m)\n",
        "\n",
        "  def mac_duration(self, ytm):\n",
        "    return self.T\n",
        "    \n",
        "  def convextity(self, ytm):\n",
        "    return self.T *(self.T + 1/self.m)/(1+ytm / self.m)**(self.m)\n",
        "\n",
        "\n",
        "\n",
        "  "
      ],
      "execution_count": 1,
      "outputs": []
    },
    {
      "cell_type": "code",
      "metadata": {
        "id": "JR3qEeDGneEa"
      },
      "source": [
        "class CouponBond:\n",
        "  def __init__(self, F, T, q, m=2):\n",
        "    self.F = F\n",
        "    self.T = T\n",
        "    self.q = q\n",
        "    self.m = m\n",
        "    self.n = self.m *self.T\n",
        "    self.coupon = self.F *self.q / self.m\n",
        "\n",
        "  def price(self, discount_factor = None, ytm = None, continuous = False):\n",
        "    if ytm:\n",
        "      if continuous:\n",
        "        Iam = np.exp(-ytm/ self.m)\n",
        "      else:\n",
        "        Iam = 1 / (1+ytm / self.m)\n",
        "\n",
        "    return self.F *Iam **self.n + self.coupon * geo_sum(Iam, self.n)\n",
        "\n",
        "    dt = 1/ self.m\n",
        "    years = np.arrange(dt, self.T + dt, dt)\n",
        "    if not set(years).issubset(discount_factor.index):\n",
        "        raise Exception(f\"Missing years in discount_factor\")\n",
        "    return self.F * discount_factor[self.T] + self.coupon * discount_factor[years].sum()\n",
        "\n",
        "  def between_coupon(self, reference_date, maturity):\n",
        "    maturity = datetime.strptime(maturity, \"%Y-%m-%d\")\n",
        "    reference_date = datetime.strptime(reference_date, \"%Y-%m-%d\")\n",
        "    time_delta = (maturity - reference_date)\n",
        "    k = int(time_delta.days / (365 / self.m) + 1 )\n",
        "    tau= time_delta.days / (365/ self.m) - (k-1)\n",
        "    return k, tau\n",
        "  def full_price(self, ytm, k, tau, continuous= False):\n",
        "    if ytm:\n",
        "      if continuous:\n",
        "        Iam = np.exp(-ytm/ self.m)\n",
        "      else:\n",
        "        Iam = 1/ (1+ytm/ self.m)\n",
        "    Iam = 1 / (1+ ytm/self.m)\n",
        "    return self.F * Iam**(k+tau) + self.coupon * Iam **tau *geo_sum(Iam , k)\n",
        "\n",
        "  def ytm(self, price, k= None , tau = None, continuous = False, guess = 0.05, between_coupon = False):\n",
        "    if between_coupon:\n",
        "      func = lambda ytm : self.full_price(ytm = ytm, k=k, tau=tau , continuous = continuous)-price\n",
        "    else:\n",
        "      func = lambda ytm : self.price(ytm= ytm, continuous = continuous)-price\n",
        "    return optimize.newton(func, guess)  \n"
      ],
      "execution_count": 3,
      "outputs": []
    },
    {
      "cell_type": "code",
      "metadata": {
        "id": "oGvUhZM0ngAD"
      },
      "source": [
        ""
      ],
      "execution_count": null,
      "outputs": []
    },
    {
      "cell_type": "code",
      "metadata": {
        "id": "ofkFWiBlFs2M"
      },
      "source": [
        ""
      ],
      "execution_count": null,
      "outputs": []
    },
    {
      "cell_type": "markdown",
      "metadata": {
        "id": "Htny6jFTHtXa"
      },
      "source": [
        "MarketWatch US Treasury Bond"
      ]
    },
    {
      "cell_type": "code",
      "metadata": {
        "colab": {
          "base_uri": "https://localhost:8080/"
        },
        "id": "UYim5rMSg497",
        "outputId": "607f4bf3-24a7-4d6f-a69b-2110f3f6c865"
      },
      "source": [
        "F= 100\n",
        "m = 2\n",
        "q= 0.00875\n",
        "T = 10\n",
        "\n",
        "#coupon bond\n",
        "bond = CouponBond (T= T, q = q, F = F, m = m)\n",
        "price = 98 +4/32\n",
        "print(\"YTM: \", bond.ytm(price=price))\n"
      ],
      "execution_count": 4,
      "outputs": [
        {
          "output_type": "stream",
          "text": [
            "YTM:  0.010732437559411013\n"
          ],
          "name": "stdout"
        }
      ]
    },
    {
      "cell_type": "code",
      "metadata": {
        "colab": {
          "base_uri": "https://localhost:8080/"
        },
        "id": "28hxtWjFk2fO",
        "outputId": "a5c76d01-1730-4c7d-aca8-a8593dc200c1"
      },
      "source": [
        "F = 100\n",
        "m = 2\n",
        "q = 0.00875\n",
        "\n",
        "#coupon bond\n",
        "bond= CouponBond(T=T, q=q, F=F, m=m)\n",
        "price = 98 + 4/32\n",
        "\n",
        "reference_date = datetime.today().strftime(\"%Y-%m-%d\")\n",
        "maturity_date = \"2030-11-15\"\n",
        "\n",
        "k, tau = bond.between_coupon(reference_date, maturity_date)\n",
        "\n",
        "print(\"YTM Between Coupon Payment : \", \\\n",
        "      bond.ytm(price=price, k=k, tau=tau, between_coupon= True))\n"
      ],
      "execution_count": 5,
      "outputs": [
        {
          "output_type": "stream",
          "text": [
            "YTM Between Coupon Payment :  0.010417683984502912\n"
          ],
          "name": "stdout"
        }
      ]
    },
    {
      "cell_type": "code",
      "metadata": {
        "colab": {
          "base_uri": "https://localhost:8080/"
        },
        "id": "t5VZqzgNKGfh",
        "outputId": "40c3cc40-8ba2-4b3e-c697-37d261ff80a8"
      },
      "source": [
        "F = 100\n",
        "m = 2\n",
        "q = 0.00125\n",
        "T = 2\n",
        "\n",
        "\n",
        "#coupon bond\n",
        "bond = CouponBond(T=T, q=q, F=F, m=m)\n",
        "price = 100 + 0/32\n",
        "\n",
        "reference_date = datetime. today().strftime(\"%Y-%m-%d\")\n",
        "maturity_date = \"2030-11-15\"\n",
        "\n",
        "k,tau = bond.between_coupon(reference_date, maturity_date)\n",
        "\n",
        "print(\"YTM Between Coupon Payment: \",\\\n",
        "      bond.ytm(price=price, k=k, tau=tau, between_coupon = True))\n",
        "\n",
        "print(\"YTM: \", bond.ytm(price=price))"
      ],
      "execution_count": 10,
      "outputs": [
        {
          "output_type": "stream",
          "text": [
            "YTM Between Coupon Payment:  0.001214671215017434\n",
            "YTM:  0.001250000000000043\n"
          ],
          "name": "stdout"
        }
      ]
    },
    {
      "cell_type": "code",
      "metadata": {
        "id": "xlfZa5z1KILm"
      },
      "source": [
        ""
      ],
      "execution_count": 9,
      "outputs": []
    },
    {
      "cell_type": "code",
      "metadata": {
        "colab": {
          "base_uri": "https://localhost:8080/",
          "height": 207
        },
        "id": "6432981SKH-0",
        "outputId": "9d3e588b-a067-477b-9887-27b2487a163a"
      },
      "source": [
        "F= 100\n",
        "m = 2\n",
        "q= 0.00125\n",
        "T = 3\n",
        "\n",
        "#coupon bond\n",
        "bond = CouponBond (T=T, q=q, F=F, m=m)\n",
        "price = 99 +8/32\n",
        "\n",
        "reference_date = datetime.today().strptime(\"%Y-%m-%d\")\n"
      ],
      "execution_count": 9,
      "outputs": [
        {
          "output_type": "error",
          "ename": "TypeError",
          "evalue": "ignored",
          "traceback": [
            "\u001b[0;31m---------------------------------------------------------------------------\u001b[0m",
            "\u001b[0;31mTypeError\u001b[0m                                 Traceback (most recent call last)",
            "\u001b[0;32m<ipython-input-9-5dfef88a2958>\u001b[0m in \u001b[0;36m<module>\u001b[0;34m()\u001b[0m\n\u001b[1;32m      8\u001b[0m \u001b[0mprice\u001b[0m \u001b[0;34m=\u001b[0m \u001b[0;36m99\u001b[0m \u001b[0;34m+\u001b[0m\u001b[0;36m8\u001b[0m\u001b[0;34m/\u001b[0m\u001b[0;36m32\u001b[0m\u001b[0;34m\u001b[0m\u001b[0;34m\u001b[0m\u001b[0m\n\u001b[1;32m      9\u001b[0m \u001b[0;34m\u001b[0m\u001b[0m\n\u001b[0;32m---> 10\u001b[0;31m \u001b[0mreference_date\u001b[0m \u001b[0;34m=\u001b[0m \u001b[0mdatetime\u001b[0m\u001b[0;34m.\u001b[0m\u001b[0mtoday\u001b[0m\u001b[0;34m(\u001b[0m\u001b[0;34m)\u001b[0m\u001b[0;34m.\u001b[0m\u001b[0mstrptime\u001b[0m\u001b[0;34m(\u001b[0m\u001b[0;34m\"%Y-%m-%d\"\u001b[0m\u001b[0;34m)\u001b[0m\u001b[0;34m\u001b[0m\u001b[0;34m\u001b[0m\u001b[0m\n\u001b[0m",
            "\u001b[0;31mTypeError\u001b[0m: strptime() takes exactly 2 arguments (1 given)"
          ]
        }
      ]
    }
  ]
}