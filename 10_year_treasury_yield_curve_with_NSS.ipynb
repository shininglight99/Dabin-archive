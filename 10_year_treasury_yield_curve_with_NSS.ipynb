{
  "nbformat": 4,
  "nbformat_minor": 0,
  "metadata": {
    "colab": {
      "name": "10 year treasury yield curve with NSS.ipynb",
      "provenance": [],
      "collapsed_sections": []
    },
    "kernelspec": {
      "name": "python3",
      "display_name": "Python 3"
    },
    "language_info": {
      "name": "python"
    }
  },
  "cells": [
    {
      "cell_type": "code",
      "metadata": {
        "colab": {
          "base_uri": "https://localhost:8080/"
        },
        "id": "3OT8Y-pyTayp",
        "outputId": "73d61e0c-970b-4a51-ef22-6dede8e334e3"
      },
      "source": [
        "!pip install nelson_siegel_svensson\n",
        "!pip install QuantLib"
      ],
      "execution_count": 12,
      "outputs": [
        {
          "output_type": "stream",
          "text": [
            "Requirement already satisfied: nelson_siegel_svensson in /usr/local/lib/python3.7/dist-packages (0.4.2)\n",
            "Requirement already satisfied: scipy>=1.2 in /usr/local/lib/python3.7/dist-packages (from nelson_siegel_svensson) (1.4.1)\n",
            "Requirement already satisfied: matplotlib>=3.0 in /usr/local/lib/python3.7/dist-packages (from nelson_siegel_svensson) (3.2.2)\n",
            "Requirement already satisfied: Click>=6.0 in /usr/local/lib/python3.7/dist-packages (from nelson_siegel_svensson) (7.1.2)\n",
            "Requirement already satisfied: numpy>=1.14 in /usr/local/lib/python3.7/dist-packages (from nelson_siegel_svensson) (1.19.5)\n",
            "Requirement already satisfied: kiwisolver>=1.0.1 in /usr/local/lib/python3.7/dist-packages (from matplotlib>=3.0->nelson_siegel_svensson) (1.3.1)\n",
            "Requirement already satisfied: cycler>=0.10 in /usr/local/lib/python3.7/dist-packages (from matplotlib>=3.0->nelson_siegel_svensson) (0.10.0)\n",
            "Requirement already satisfied: pyparsing!=2.0.4,!=2.1.2,!=2.1.6,>=2.0.1 in /usr/local/lib/python3.7/dist-packages (from matplotlib>=3.0->nelson_siegel_svensson) (2.4.7)\n",
            "Requirement already satisfied: python-dateutil>=2.1 in /usr/local/lib/python3.7/dist-packages (from matplotlib>=3.0->nelson_siegel_svensson) (2.8.2)\n",
            "Requirement already satisfied: six in /usr/local/lib/python3.7/dist-packages (from cycler>=0.10->matplotlib>=3.0->nelson_siegel_svensson) (1.15.0)\n",
            "Requirement already satisfied: QuantLib in /usr/local/lib/python3.7/dist-packages (1.23)\n"
          ],
          "name": "stdout"
        }
      ]
    },
    {
      "cell_type": "code",
      "metadata": {
        "id": "kCRl9hhUT1Ka"
      },
      "source": [
        "import numpy as np\n",
        "from nelson_siegel_svensson.calibrate import calibrate_ns_ols, errorfn_ns_ols\n",
        "from matplotlib import pyplot as plt\n",
        "import datetime\n",
        "import pandas as pd\n",
        "import requests\n",
        "from bs4 import BeautifulSoup\n",
        "import QuantLib as ql"
      ],
      "execution_count": 13,
      "outputs": []
    },
    {
      "cell_type": "code",
      "metadata": {
        "id": "z7GnDY_4UkVP"
      },
      "source": [
        "def GET_DATE():\n",
        "  req = requests.get(\"https://www.marketwatch.com/investing/bond/tmubmusd10y?countrycode=bx\")\n",
        "  html = req.text\n",
        "  soup = BeautifulSoup(html, 'html.parser')\n",
        "  data = soup.find(\"span\", class_=\"timestamp__time\")\n",
        "  date = data.text\n",
        "  date = date[14:-15]\n",
        "  date = datetime.datetime.strptime(date, \"%b %d, %Y\").date()\n",
        "  return date\n"
      ],
      "execution_count": 14,
      "outputs": []
    },
    {
      "cell_type": "code",
      "metadata": {
        "id": "tWGlGBRGUkeV",
        "colab": {
          "base_uri": "https://localhost:8080/",
          "height": 388
        },
        "outputId": "8329105d-40e0-4aac-9e7a-fb5ba416c700"
      },
      "source": [
        "def GET_QUOTE(reference_date):\n",
        "    tenors = ['01M', '03M', '06M', '01Y', '02Y', '03Y', '05Y', '07Y', '10Y', '30Y']\n",
        "    \n",
        "    maturities = []\n",
        "    days = []\n",
        "    prices = []\n",
        "    coupons = []\n",
        "    \n",
        "    for i, tenors in enumerate(tenors):\n",
        "        req = requests.get(\"https://www.marketwatch.com/investing/bond/tmubmusd\" + tenors + \"?countryCode=BX\")\n",
        "    \n",
        "        html = req.text\n",
        "        soup = BeautifulSoup(html, 'html.parser')\n",
        "\n",
        "        data1 = soup.select('body > div > div > div > div > div > h2 > span')\n",
        "        data2 = soup.select('body > div > div > div > div > div > ul > li > span')\n",
        "        \n",
        "        if i <= 3:\n",
        "          price = data1[0].text\n",
        "          price = float(price)\n",
        "        else:  \n",
        "            price = data2[6].text\n",
        "            price = price.split()\n",
        "            price1 = float(price[0])\n",
        "            price = price[1].split('/')\n",
        "            price2 = float(price[0])\n",
        "            price3 = float(price[1])\n",
        "            price = price1 + (price2 / price3)\n",
        "        \n",
        "        coupon = data2[12].text\n",
        "        if coupon != '':\n",
        "            coupon = float(coupon[:-1])\n",
        "        else:\n",
        "            coupon = 0.0\n",
        "            \n",
        "        maturity = data2[14].text\n",
        "        maturity = datetime.datetime.strptime(maturity, '%b %d, %Y').date()\n",
        "        \n",
        "        days.append((maturity - reference_date).days)\n",
        "        prices.append(price)\n",
        "        coupons.append(coupon)\n",
        "        maturities.append(maturity)\n",
        "    \n",
        "    df = pd.DataFrame([maturities, days, prices, coupons]).transpose()\n",
        "    headers = ['maturity', 'days', 'price', 'coupon']\n",
        "    df.columns = headers\n",
        "    df.set_index('maturity', inplace=True)\n",
        "    \n",
        "    return df\n",
        "ref_date = GET_DATE()\n",
        "quote = GET_QUOTE(ref_date)\n",
        "quote"
      ],
      "execution_count": 32,
      "outputs": [
        {
          "output_type": "execute_result",
          "data": {
            "text/html": [
              "<div>\n",
              "<style scoped>\n",
              "    .dataframe tbody tr th:only-of-type {\n",
              "        vertical-align: middle;\n",
              "    }\n",
              "\n",
              "    .dataframe tbody tr th {\n",
              "        vertical-align: top;\n",
              "    }\n",
              "\n",
              "    .dataframe thead th {\n",
              "        text-align: right;\n",
              "    }\n",
              "</style>\n",
              "<table border=\"1\" class=\"dataframe\">\n",
              "  <thead>\n",
              "    <tr style=\"text-align: right;\">\n",
              "      <th></th>\n",
              "      <th>days</th>\n",
              "      <th>price</th>\n",
              "      <th>coupon</th>\n",
              "    </tr>\n",
              "    <tr>\n",
              "      <th>maturity</th>\n",
              "      <th></th>\n",
              "      <th></th>\n",
              "      <th></th>\n",
              "    </tr>\n",
              "  </thead>\n",
              "  <tbody>\n",
              "    <tr>\n",
              "      <th>2021-09-28</th>\n",
              "      <td>32</td>\n",
              "      <td>0.038</td>\n",
              "      <td>0</td>\n",
              "    </tr>\n",
              "    <tr>\n",
              "      <th>2021-11-26</th>\n",
              "      <td>91</td>\n",
              "      <td>0.053</td>\n",
              "      <td>0</td>\n",
              "    </tr>\n",
              "    <tr>\n",
              "      <th>2022-02-24</th>\n",
              "      <td>181</td>\n",
              "      <td>0.053</td>\n",
              "      <td>0</td>\n",
              "    </tr>\n",
              "    <tr>\n",
              "      <th>2022-08-11</th>\n",
              "      <td>349</td>\n",
              "      <td>0.068</td>\n",
              "      <td>0</td>\n",
              "    </tr>\n",
              "    <tr>\n",
              "      <th>2023-08-31</th>\n",
              "      <td>734</td>\n",
              "      <td>99.25</td>\n",
              "      <td>0.125</td>\n",
              "    </tr>\n",
              "    <tr>\n",
              "      <th>2024-08-15</th>\n",
              "      <td>1084</td>\n",
              "      <td>99.2812</td>\n",
              "      <td>0.375</td>\n",
              "    </tr>\n",
              "    <tr>\n",
              "      <th>2026-08-31</th>\n",
              "      <td>1830</td>\n",
              "      <td>99.25</td>\n",
              "      <td>0.75</td>\n",
              "    </tr>\n",
              "    <tr>\n",
              "      <th>2028-08-31</th>\n",
              "      <td>2561</td>\n",
              "      <td>100.094</td>\n",
              "      <td>1.125</td>\n",
              "    </tr>\n",
              "    <tr>\n",
              "      <th>2031-08-15</th>\n",
              "      <td>3640</td>\n",
              "      <td>99.1562</td>\n",
              "      <td>1.25</td>\n",
              "    </tr>\n",
              "    <tr>\n",
              "      <th>2051-08-15</th>\n",
              "      <td>10945</td>\n",
              "      <td>101.281</td>\n",
              "      <td>2</td>\n",
              "    </tr>\n",
              "  </tbody>\n",
              "</table>\n",
              "</div>"
            ],
            "text/plain": [
              "             days    price coupon\n",
              "maturity                         \n",
              "2021-09-28     32    0.038      0\n",
              "2021-11-26     91    0.053      0\n",
              "2022-02-24    181    0.053      0\n",
              "2022-08-11    349    0.068      0\n",
              "2023-08-31    734    99.25  0.125\n",
              "2024-08-15   1084  99.2812  0.375\n",
              "2026-08-31   1830    99.25   0.75\n",
              "2028-08-31   2561  100.094  1.125\n",
              "2031-08-15   3640  99.1562   1.25\n",
              "2051-08-15  10945  101.281      2"
            ]
          },
          "metadata": {},
          "execution_count": 32
        }
      ]
    },
    {
      "cell_type": "code",
      "metadata": {
        "id": "5ZQ_8j3UbgcT"
      },
      "source": [
        "def TREASURY_CURVE(date, quote):\n",
        "    \n",
        "    tbill = quote[0:4]\n",
        "    tbond = quote[4:]\n",
        "    \n",
        "    eval_date = ql.Date(date.day, date.month, date.year)\n",
        "    ql.Settings.instance().evaluationDate = eval_date\n",
        "    \n",
        "    calendar = ql.UnitedStates()\n",
        "    convention = ql.ModifiedFollowing\n",
        "    day_counter = ql.ActualActual()\n",
        "    end_of_month = True\n",
        "    fixing_days = 1\n",
        "    face_amount = 100\n",
        "    coupon_frequency = ql.Period(ql.Semiannual)\n",
        "    \n",
        "    bill_helpers = [ql.DepositRateHelper(ql.QuoteHandle(ql.SimpleQuote(r/100.0)),\n",
        "                                         ql.Period(m, ql.Days),\n",
        "                                         fixing_days,\n",
        "                                         calendar,\n",
        "                                         convention,\n",
        "                                         end_of_month,\n",
        "                                         day_counter)\n",
        "                    for r, m in zip(tbill['price'], tbill['days'])]\n",
        "    \n",
        "    bond_helpers = []\n",
        "    for p, c, m in zip(tbond['price'], tbond['coupon'], tbond['days']):\n",
        "        termination_date = eval_date + ql.Period(m, ql.Days)\n",
        "        schedule = ql.Schedule(eval_date,\n",
        "                               termination_date,\n",
        "                               coupon_frequency,\n",
        "                               calendar,\n",
        "                               convention,\n",
        "                               convention,\n",
        "                               ql.DateGeneration.Backward,\n",
        "                               end_of_month)\n",
        "        bond_helper = ql.FixedRateBondHelper(ql.QuoteHandle(ql.SimpleQuote(p)),\n",
        "                                             fixing_days,\n",
        "                                             face_amount,\n",
        "                                             schedule,\n",
        "                                             [c/100.0],\n",
        "                                             day_counter,\n",
        "                                             convention)\n",
        "        bond_helpers.append(bond_helper)\n",
        "    \n",
        "    rate_helper = bill_helpers + bond_helpers\n",
        "    \n",
        "    yc_linearzero = ql.PiecewiseLinearZero(eval_date, rate_helper, day_counter)\n",
        "    \n",
        "    return yc_linearzero\n",
        "\n",
        "    "
      ],
      "execution_count": 33,
      "outputs": []
    },
    {
      "cell_type": "code",
      "metadata": {
        "id": "_cZMa7gXbhGx"
      },
      "source": [
        "def DISCOUNT_FACTOR(date, curve):\n",
        "    date = ql.Date(date.day, date.month, date.year)\n",
        "    return curve.discount(date)"
      ],
      "execution_count": 34,
      "outputs": []
    },
    {
      "cell_type": "code",
      "metadata": {
        "id": "TAS93RDtNeKv"
      },
      "source": [
        "def ZERO_RATE(date, curve):\n",
        "    date = ql.Date(date.day, date.month, date.year)\n",
        "    day_counter = ql.ActualActual()\n",
        "    compounding = ql.Compounded\n",
        "    freq = ql.Continuous\n",
        "    zero_rate = curve.zeroRate(date, day_counter, compounding, freq).rate()\n",
        "    return zero_rate"
      ],
      "execution_count": 35,
      "outputs": []
    },
    {
      "cell_type": "code",
      "metadata": {
        "colab": {
          "base_uri": "https://localhost:8080/",
          "height": 1000
        },
        "id": "aZWiOh37Nea3",
        "outputId": "052d9232-225f-4246-bb79-8b2e2fdb67b0"
      },
      "source": [
        "ref_date = GET_DATE()\n",
        "quote = GET_QUOTE(ref_date)\n",
        "curve = TREASURY_CURVE(ref_date, quote)\n",
        "\n",
        "quote['discount factor'] = np.nan\n",
        "quote['zero rate'] = np.nan\n",
        "\n",
        "for date in quote.index:\n",
        "    quote.loc[date, 'discount factor'] = DISCOUNT_FACTOR(date, curve)\n",
        "    quote.loc[date, 'zero rate'] = ZERO_RATE(date, curve)\n",
        "    \n",
        "print(quote[['discount factor', 'zero rate']])\n",
        "\n",
        "plt.figure(figsize=(16,8))\n",
        "plt.plot(quote['zero rate'], 'b.-')\n",
        "plt.title('Zero Curve', loc='center')\n",
        "plt.xlabel('Maturity')\n",
        "plt.ylabel('Zero Rate')\n",
        "\n",
        "plt.figure(figsize=(16,8))\n",
        "plt.plot(quote['discount factor'], 'r-')\n",
        "plt.title('Discount Curve', loc='center')\n",
        "plt.xlabel('Maturity')\n",
        "plt.ylabel('Discount Factor')"
      ],
      "execution_count": 36,
      "outputs": [
        {
          "output_type": "stream",
          "text": [
            "            discount factor  zero rate\n",
            "maturity                              \n",
            "2021-09-28         0.999967   0.000380\n",
            "2021-11-26         0.999888   0.000449\n",
            "2022-02-24         0.999739   0.000527\n",
            "2022-08-11         0.999448   0.000578\n",
            "2023-08-31         0.990005   0.005002\n",
            "2024-08-15         0.981791   0.006201\n",
            "2026-08-31         0.955677   0.009068\n",
            "2028-08-31         0.924616   0.011209\n",
            "2031-08-15         0.873639   0.013599\n",
            "2051-08-15         0.541566   0.020570\n"
          ],
          "name": "stdout"
        },
        {
          "output_type": "execute_result",
          "data": {
            "text/plain": [
              "Text(0, 0.5, 'Discount Factor')"
            ]
          },
          "metadata": {},
          "execution_count": 36
        },
        {
          "output_type": "display_data",
          "data": {
            "image/png": "[encoded data removed]",
            "text/plain": [
              "<Figure size 1152x576 with 1 Axes>"
            ]
          },
          "metadata": {
            "needs_background": "light"
          }
        },
        {
          "output_type": "display_data",
          "data": {
            "image/png": "[encoded data removed]",
            "text/plain": [
              "<Figure size 1152x576 with 1 Axes>"
            ]
          },
          "metadata": {
            "needs_background": "light"
          }
        }
      ]
    },
    {
      "cell_type": "code",
      "metadata": {
        "id": "yrPjFFOERkZB"
      },
      "source": [
        "t = np.array([1/12, 3/12, 6/12, 1.0, 2.0, 3.0, 5.0, 7.0, 10.0, 30.0])\n",
        "y = quote['zero rate'].to_numpy()"
      ],
      "execution_count": 37,
      "outputs": []
    },
    {
      "cell_type": "code",
      "metadata": {
        "id": "PpVvN8ZPRke4",
        "colab": {
          "base_uri": "https://localhost:8080/",
          "height": 530
        },
        "outputId": "f2ee6114-c6c9-4912-c6ba-212ccac6599f"
      },
      "source": [
        "plt.figure(figsize=(16,8))\n",
        "plt.plot(t, y, 'r+')\n",
        "plt.title('Zero rates', loc='center')\n",
        "plt.xlabel('Maturity')\n",
        "plt.ylabel('Zero rate')"
      ],
      "execution_count": 38,
      "outputs": [
        {
          "output_type": "execute_result",
          "data": {
            "text/plain": [
              "Text(0, 0.5, 'Zero rate')"
            ]
          },
          "metadata": {},
          "execution_count": 38
        },
        {
          "output_type": "display_data",
          "data": {
            "image/png": "[encoded data removed]",
            "text/plain": [
              "<Figure size 1152x576 with 1 Axes>"
            ]
          },
          "metadata": {
            "needs_background": "light"
          }
        }
      ]
    },
    {
      "cell_type": "code",
      "metadata": {
        "id": "4NXtW0T4Q-qM",
        "colab": {
          "base_uri": "https://localhost:8080/"
        },
        "outputId": "20a49904-0ca0-45af-c6f6-802f315a26b0"
      },
      "source": [
        "curve, status = calibrate_ns_ols(t, y, tau0=1.0)  # starting value of 1.0 for the optimization of tau\n",
        "assert status.success\n",
        "curve"
      ],
      "execution_count": 39,
      "outputs": [
        {
          "output_type": "execute_result",
          "data": {
            "text/plain": [
              "NelsonSiegelCurve(beta0=0.02208085874240273, beta1=-0.021913363315234094, beta2=-0.01891243176317616, tau=1.8481550491512269)"
            ]
          },
          "metadata": {},
          "execution_count": 39
        }
      ]
    },
    {
      "cell_type": "code",
      "metadata": {
        "id": "V4af-fg5WJf4",
        "colab": {
          "base_uri": "https://localhost:8080/",
          "height": 312
        },
        "outputId": "17ad94d0-0afc-44e0-9f17-bdab6ca35133"
      },
      "source": [
        "fig, ax = plt.subplots(nrows=1, ncols=1)\n",
        "fig.suptitle('Calibrated Nelson-Siegel Curve')\n",
        "ax.plot(t, y, 'r+')\n",
        "t2 = np.linspace(0, 30)\n",
        "ax.plot(t2, curve(t2), 'b-')"
      ],
      "execution_count": 40,
      "outputs": [
        {
          "output_type": "execute_result",
          "data": {
            "text/plain": [
              "[<matplotlib.lines.Line2D at 0x7fb2643a5390>]"
            ]
          },
          "metadata": {},
          "execution_count": 40
        },
        {
          "output_type": "display_data",
          "data": {
            "image/png": "[encoded data removed]",
            "text/plain": [
              "<Figure size 432x288 with 1 Axes>"
            ]
          },
          "metadata": {
            "needs_background": "light"
          }
        }
      ]
    },
    {
      "cell_type": "code",
      "metadata": {
        "id": "dRBn5XhOWMGD"
      },
      "source": [
        ""
      ],
      "execution_count": null,
      "outputs": []
    }
  ]
}