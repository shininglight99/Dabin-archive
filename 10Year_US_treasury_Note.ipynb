{
  "nbformat": 4,
  "nbformat_minor": 0,
  "metadata": {
    "colab": {
      "name": "10Year US treasury Note.ipynb",
      "provenance": [],
      "authorship_tag": "ABX9TyPfkklRryintGBjcvLTe9EP",
      "include_colab_link": true
    },
    "kernelspec": {
      "name": "python3",
      "display_name": "Python 3"
    }
  },
  "cells": [
    {
      "cell_type": "markdown",
      "metadata": {
        "id": "view-in-github",
        "colab_type": "text"
      },
      "source": [
        "<a href=\"https://colab.research.google.com/github/shininglight99/ellison-archive/blob/master/10Year_US_treasury_Note.ipynb\" target=\"_parent\"><img src=\"https://colab.research.google.com/assets/colab-badge.svg\" alt=\"Open In Colab\"/></a>"
      ]
    },
    {
      "cell_type": "code",
      "metadata": {
        "colab": {
          "base_uri": "https://localhost:8080/"
        },
        "id": "6rdzDY2Tf8V9",
        "outputId": "ff98c64b-e662-45d7-87b5-99999a570303"
      },
      "source": [
        "pip install QuantLib-Python "
      ],
      "execution_count": 1,
      "outputs": [
        {
          "output_type": "stream",
          "text": [
            "Collecting QuantLib-Python\n",
            "  Downloading https://files.pythonhosted.org/packages/7e/a9/4c6fac9c3c9b1625ab573531bbe9666d2f7cd6bc0a5eeb1f5792b947d9b2/QuantLib_Python-1.18-py2.py3-none-any.whl\n",
            "Collecting QuantLib\n",
            "\u001b[?25l  Downloading https://files.pythonhosted.org/packages/da/e6/53e5138dae8a05df281af38620425703c2df57aec94568c097113806c1f9/QuantLib-1.21-cp36-cp36m-manylinux1_x86_64.whl (18.8MB)\n",
            "\u001b[K     |████████████████████████████████| 18.8MB 1.4MB/s \n",
            "\u001b[?25hInstalling collected packages: QuantLib, QuantLib-Python\n",
            "Successfully installed QuantLib-1.21 QuantLib-Python-1.18\n"
          ],
          "name": "stdout"
        }
      ]
    },
    {
      "cell_type": "code",
      "metadata": {
        "id": "jSPrzyXQgU5L"
      },
      "source": [
        "import numpy as np\n",
        "import pandas as pd\n",
        "import matplotlib.pyplot as plt\n",
        "import datetime\n",
        "import requests\n",
        "from bs4 import BeautifulSoup\n",
        "import QuantLib as ql"
      ],
      "execution_count": 3,
      "outputs": []
    },
    {
      "cell_type": "code",
      "metadata": {
        "id": "hXFjyAKygVG9"
      },
      "source": [
        "def GET_DATE():\n",
        "  req = requests.get(\"https://www.marketwatch.com/investing/bond/tmubmusd10y?countrycode=bx\")\n",
        "  html = req.text\n",
        "  soup = BeautifulSoup(html, 'html.parser')\n",
        "  data = soup.find(\"span\", class_=\"WSJBase--card__timestamp--2xDXNOQK\")\n",
        "  date = data.text\n",
        "  date = datetime.datetime.strptime(date, \"%m/%d/%y\").date()\n",
        "  return date"
      ],
      "execution_count": 6,
      "outputs": []
    },
    {
      "cell_type": "code",
      "metadata": {
        "id": "r_m1cEqAi0F4"
      },
      "source": [
        "import re\n",
        "import requests\n",
        "from datetime import datetime\n",
        "import pandas as pd\n",
        "\n",
        "def get_quote(reference_date):\n",
        "    if type(reference_date) != datetime:\n",
        "        reference_date = datetime.strptime(reference_date, \"%Y-%m-%d\")\n",
        "    maturity = [\"01m\", \"03m\", \"06m\", \"01y\", \"02y\", \"03y\", \"05y\", \"07y\", \"10y\", \"30y\"]\n",
        "    bond_table = pd.DataFrame(columns = [\"Maturity Date\",\"Price\" , \"Coupon Rate\"], \\\n",
        "                             index = maturity)\n",
        "    for mat in maturity:\n",
        "        url = f\"https://www.marketwatch.com/investing/bond/tmubmusd{mat}?countrycode=bx\"\n",
        "        data = requests.get(url)\n",
        "        _, _, _, price, _, _, coupon_rate, maturity_date = \\\n",
        "                re.findall(r\"<span class=\\\"primary \\\">(.*?)</span>\\n\", data.text)\n",
        "        maturity_date = datetime.strptime(maturity_date, \"%b %d, %Y\")#\\\n",
        "                                                            #.strftime(\"%Y-%m-%d\")\n",
        "        if mat in (\"01m\", \"03m\", \"06m\", \"01y\"):\n",
        "            numer, denom = price.split(\"/\")\n",
        "            discount_yield = int(numer) / float(denom)\n",
        "            n = (maturity_date - reference_date).days\n",
        "            price = 100 / (1 + n * discount_yield / 365)\n",
        "        else:\n",
        "            price1, fraction = price.split()[0], price.split()[1]\n",
        "            numer, denom = fraction.split(\"/\")[0], fraction.split(\"/\")[1]\n",
        "            price = int(price1) + int(numer) / float(denom)\n",
        "        \n",
        "        maturity_date = maturity_date.strftime(\"%Y-%m-%d\")\n",
        "        coupon_rate = float(coupon_rate[:-1]) / 100\n",
        "        bond_table.loc[mat] = [maturity_date, price, coupon_rate]\n",
        "    return bond_table\n",
        "\n",
        "get_quote(datetime.today())"
      ],
      "execution_count": null,
      "outputs": []
    },
    {
      "cell_type": "code",
      "metadata": {
        "colab": {
          "base_uri": "https://localhost:8080/",
          "height": 225
        },
        "id": "-EW_97abi0Vr",
        "outputId": "3ca6dd3f-993e-418f-9d19-9065a67ab5ad"
      },
      "source": [
        "#Test\n",
        "reference_date = GET_DATE\n",
        "quote = get_quote(reference_date)\n",
        "print(quote)"
      ],
      "execution_count": 11,
      "outputs": [
        {
          "output_type": "error",
          "ename": "NameError",
          "evalue": "ignored",
          "traceback": [
            "\u001b[0;31m---------------------------------------------------------------------------\u001b[0m",
            "\u001b[0;31mNameError\u001b[0m                                 Traceback (most recent call last)",
            "\u001b[0;32m<ipython-input-11-a70e8ef641d0>\u001b[0m in \u001b[0;36m<module>\u001b[0;34m()\u001b[0m\n\u001b[1;32m      1\u001b[0m \u001b[0;31m#Test\u001b[0m\u001b[0;34m\u001b[0m\u001b[0;34m\u001b[0m\u001b[0;34m\u001b[0m\u001b[0m\n\u001b[1;32m      2\u001b[0m \u001b[0mreference_date\u001b[0m \u001b[0;34m=\u001b[0m \u001b[0mGET_DATE\u001b[0m\u001b[0;34m\u001b[0m\u001b[0;34m\u001b[0m\u001b[0m\n\u001b[0;32m----> 3\u001b[0;31m \u001b[0mquote\u001b[0m \u001b[0;34m=\u001b[0m \u001b[0mget_quote\u001b[0m\u001b[0;34m(\u001b[0m\u001b[0mreference_date\u001b[0m\u001b[0;34m)\u001b[0m\u001b[0;34m\u001b[0m\u001b[0;34m\u001b[0m\u001b[0m\n\u001b[0m\u001b[1;32m      4\u001b[0m \u001b[0mprint\u001b[0m\u001b[0;34m(\u001b[0m\u001b[0mquote\u001b[0m\u001b[0;34m)\u001b[0m\u001b[0;34m\u001b[0m\u001b[0;34m\u001b[0m\u001b[0m\n",
            "\u001b[0;31mNameError\u001b[0m: name 'get_quote' is not defined"
          ]
        }
      ]
    }
  ]
}