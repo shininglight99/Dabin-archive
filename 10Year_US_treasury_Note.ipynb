{
  "nbformat": 4,
  "nbformat_minor": 0,
  "metadata": {
    "colab": {
      "name": "10Year US treasury Note.ipynb",
      "provenance": [],
      "authorship_tag": "ABX9TyNlHbhZuuEFUzDXkWYz3ea1",
      "include_colab_link": true
    },
    "kernelspec": {
      "name": "python3",
      "display_name": "Python 3"
    }
  },
  "cells": [
    {
      "cell_type": "markdown",
      "metadata": {
        "id": "view-in-github",
        "colab_type": "text"
      },
      "source": [
        "<a href=\"https://colab.research.google.com/github/shininglight99/ellison-archive/blob/master/10Year_US_treasury_Note.ipynb\" target=\"_parent\"><img src=\"https://colab.research.google.com/assets/colab-badge.svg\" alt=\"Open In Colab\"/></a>"
      ]
    },
    {
      "cell_type": "code",
      "metadata": {
        "colab": {
          "base_uri": "https://localhost:8080/"
        },
        "id": "6rdzDY2Tf8V9",
        "outputId": "505463c1-5f4e-49f3-db91-512ee4cb076a"
      },
      "source": [
        "pip install QuantLib-Python "
      ],
      "execution_count": 3,
      "outputs": [
        {
          "output_type": "stream",
          "text": [
            "Collecting QuantLib-Python\n",
            "  Downloading https://files.pythonhosted.org/packages/7e/a9/4c6fac9c3c9b1625ab573531bbe9666d2f7cd6bc0a5eeb1f5792b947d9b2/QuantLib_Python-1.18-py2.py3-none-any.whl\n",
            "Collecting QuantLib\n",
            "\u001b[?25l  Downloading https://files.pythonhosted.org/packages/da/e6/53e5138dae8a05df281af38620425703c2df57aec94568c097113806c1f9/QuantLib-1.21-cp36-cp36m-manylinux1_x86_64.whl (18.8MB)\n",
            "\u001b[K     |████████████████████████████████| 18.8MB 214kB/s \n",
            "\u001b[?25hInstalling collected packages: QuantLib, QuantLib-Python\n",
            "Successfully installed QuantLib-1.21 QuantLib-Python-1.18\n"
          ],
          "name": "stdout"
        }
      ]
    },
    {
      "cell_type": "code",
      "metadata": {
        "id": "jSPrzyXQgU5L"
      },
      "source": [
        "import numpy as np\n",
        "import pandas as pd\n",
        "import matplotlib.pyplot as plt\n",
        "import datetime\n",
        "import requests\n",
        "from bs4 import BeautifulSoup\n",
        "import QuantLib as ql"
      ],
      "execution_count": 4,
      "outputs": []
    },
    {
      "cell_type": "code",
      "metadata": {
        "id": "hXFjyAKygVG9"
      },
      "source": [
        "def GET_DATE():\n",
        "  req = requests.get(\"https://www.marketwatch.com/investing/bond/tmubmusd10y?countrycode=bx\")\n",
        "  html = req.text\n",
        "  soup = BeautifulSoup(html, 'html.parser')\n",
        "  data = soup.find(\"span\", class_=\"WSJBase--card__timestamp--2xDXNOQK\")\n",
        "  date = data.text\n",
        "  date = datetime.datetime.strptime(date, \"%m/%d/%y\").date()\n",
        "  return date"
      ],
      "execution_count": 5,
      "outputs": []
    },
    {
      "cell_type": "code",
      "metadata": {
        "colab": {
          "base_uri": "https://localhost:8080/",
          "height": 359
        },
        "id": "r_m1cEqAi0F4",
        "outputId": "1ec14744-fdea-4d15-9adc-97ef3ff22cb0"
      },
      "source": [
        "import re\n",
        "import requests\n",
        "from datetime import datetime\n",
        "import pandas as pd\n",
        "\n",
        "def get_quote(reference_date):\n",
        "    if type(reference_date) != datetime:\n",
        "        reference_date = datetime.strptime(reference_date, \"%Y-%m-%d\")\n",
        "    maturity = [\"01m\", \"03m\", \"06m\", \"01y\", \"02y\", \"03y\", \"05y\", \"07y\", \"10y\", \"30y\"]\n",
        "    bond_table = pd.DataFrame(columns = [\"Maturity Date\",\"Price\" , \"Coupon Rate\"], \\\n",
        "                             index = maturity)\n",
        "    for mat in maturity:\n",
        "        url = f\"https://www.marketwatch.com/investing/bond/tmubmusd{mat}?countrycode=bx\"\n",
        "        data = requests.get(url)\n",
        "        _, _, _, price, _, _, coupon_rate, maturity_date = \\\n",
        "                re.findall(r\"<span class=\\\"primary \\\">(.*?)</span>\\n\", data.text)\n",
        "        maturity_date = datetime.strptime(maturity_date, \"%b %d, %Y\")#\\\n",
        "                                                            #.strftime(\"%Y-%m-%d\")\n",
        "        if mat in (\"01m\", \"03m\", \"06m\", \"01y\"):\n",
        "            numer, denom = price.split(\"/\")\n",
        "            discount_yield = int(numer) / float(denom)\n",
        "            n = (maturity_date - reference_date).days\n",
        "            price = 100 / (1 + n * discount_yield / 365)\n",
        "        else:\n",
        "            price1, fraction = price.split()[0], price.split()[1]\n",
        "            numer, denom = fraction.split(\"/\")[0], fraction.split(\"/\")[1]\n",
        "            price = int(price1) + int(numer) / float(denom)\n",
        "        \n",
        "        maturity_date = maturity_date.strftime(\"%Y-%m-%d\")\n",
        "        coupon_rate = float(coupon_rate[:-1]) / 100\n",
        "        bond_table.loc[mat] = [maturity_date, price, coupon_rate]\n",
        "    return bond_table\n",
        "\n",
        "get_quote(datetime.today())"
      ],
      "execution_count": 6,
      "outputs": [
        {
          "output_type": "execute_result",
          "data": {
            "text/html": [
              "<div>\n",
              "<style scoped>\n",
              "    .dataframe tbody tr th:only-of-type {\n",
              "        vertical-align: middle;\n",
              "    }\n",
              "\n",
              "    .dataframe tbody tr th {\n",
              "        vertical-align: top;\n",
              "    }\n",
              "\n",
              "    .dataframe thead th {\n",
              "        text-align: right;\n",
              "    }\n",
              "</style>\n",
              "<table border=\"1\" class=\"dataframe\">\n",
              "  <thead>\n",
              "    <tr style=\"text-align: right;\">\n",
              "      <th></th>\n",
              "      <th>Maturity Date</th>\n",
              "      <th>Price</th>\n",
              "      <th>Coupon Rate</th>\n",
              "    </tr>\n",
              "  </thead>\n",
              "  <tbody>\n",
              "    <tr>\n",
              "      <th>01m</th>\n",
              "      <td>2021-03-02</td>\n",
              "      <td>99.5059</td>\n",
              "      <td>0</td>\n",
              "    </tr>\n",
              "    <tr>\n",
              "      <th>03m</th>\n",
              "      <td>2021-04-29</td>\n",
              "      <td>98.5321</td>\n",
              "      <td>0</td>\n",
              "    </tr>\n",
              "    <tr>\n",
              "      <th>06m</th>\n",
              "      <td>2021-07-29</td>\n",
              "      <td>95.628</td>\n",
              "      <td>0</td>\n",
              "    </tr>\n",
              "    <tr>\n",
              "      <th>01y</th>\n",
              "      <td>2022-01-27</td>\n",
              "      <td>91.5361</td>\n",
              "      <td>0</td>\n",
              "    </tr>\n",
              "    <tr>\n",
              "      <th>02y</th>\n",
              "      <td>2023-01-31</td>\n",
              "      <td>100</td>\n",
              "      <td>0.00125</td>\n",
              "    </tr>\n",
              "    <tr>\n",
              "      <th>03y</th>\n",
              "      <td>2024-01-15</td>\n",
              "      <td>99.25</td>\n",
              "      <td>0.00125</td>\n",
              "    </tr>\n",
              "    <tr>\n",
              "      <th>05y</th>\n",
              "      <td>2026-01-31</td>\n",
              "      <td>99.2188</td>\n",
              "      <td>0.00375</td>\n",
              "    </tr>\n",
              "    <tr>\n",
              "      <th>07y</th>\n",
              "      <td>2028-01-31</td>\n",
              "      <td>99.25</td>\n",
              "      <td>0.0075</td>\n",
              "    </tr>\n",
              "    <tr>\n",
              "      <th>10y</th>\n",
              "      <td>2030-11-15</td>\n",
              "      <td>98</td>\n",
              "      <td>0.00875</td>\n",
              "    </tr>\n",
              "    <tr>\n",
              "      <th>30y</th>\n",
              "      <td>2050-11-15</td>\n",
              "      <td>94.2812</td>\n",
              "      <td>0.01625</td>\n",
              "    </tr>\n",
              "  </tbody>\n",
              "</table>\n",
              "</div>"
            ],
            "text/plain": [
              "    Maturity Date    Price Coupon Rate\n",
              "01m    2021-03-02  99.5059           0\n",
              "03m    2021-04-29  98.5321           0\n",
              "06m    2021-07-29   95.628           0\n",
              "01y    2022-01-27  91.5361           0\n",
              "02y    2023-01-31      100     0.00125\n",
              "03y    2024-01-15    99.25     0.00125\n",
              "05y    2026-01-31  99.2188     0.00375\n",
              "07y    2028-01-31    99.25      0.0075\n",
              "10y    2030-11-15       98     0.00875\n",
              "30y    2050-11-15  94.2812     0.01625"
            ]
          },
          "metadata": {
            "tags": []
          },
          "execution_count": 6
        }
      ]
    },
    {
      "cell_type": "code",
      "metadata": {
        "id": "-EW_97abi0Vr"
      },
      "source": [
        "#Test\n",
        "def TREASURY_CURVE(date, quote):\n",
        "\n",
        "  tbill = quote[0:4]\n",
        "  tbond = quote[4:]"
      ],
      "execution_count": 7,
      "outputs": []
    },
    {
      "cell_type": "code",
      "metadata": {
        "colab": {
          "base_uri": "https://localhost:8080/",
          "height": 495
        },
        "id": "dCvEI4uLn642",
        "outputId": "9991ae13-e2bc-4cc1-dc1e-5c457d60794e"
      },
      "source": [
        "#Set Evaluation Date\n",
        "\n",
        "eval_date = ql.Date(date.day, date.month, date.year)\n",
        "ql.Settings.instance().evaluationDate = eval_date"
      ],
      "execution_count": 30,
      "outputs": [
        {
          "output_type": "error",
          "ename": "TypeError",
          "evalue": "ignored",
          "traceback": [
            "\u001b[0;31m---------------------------------------------------------------------------\u001b[0m",
            "\u001b[0;31mTypeError\u001b[0m                                 Traceback (most recent call last)",
            "\u001b[0;32m<ipython-input-30-1411b3604c9c>\u001b[0m in \u001b[0;36m<module>\u001b[0;34m()\u001b[0m\n\u001b[1;32m      1\u001b[0m \u001b[0;31m#Set Evaluation Date\u001b[0m\u001b[0;34m\u001b[0m\u001b[0;34m\u001b[0m\u001b[0;34m\u001b[0m\u001b[0m\n\u001b[1;32m      2\u001b[0m \u001b[0;34m\u001b[0m\u001b[0m\n\u001b[0;32m----> 3\u001b[0;31m \u001b[0meval_date\u001b[0m \u001b[0;34m=\u001b[0m \u001b[0mql\u001b[0m\u001b[0;34m.\u001b[0m\u001b[0mDate\u001b[0m\u001b[0;34m(\u001b[0m\u001b[0mdate\u001b[0m\u001b[0;34m.\u001b[0m\u001b[0mday\u001b[0m\u001b[0;34m,\u001b[0m \u001b[0mdate\u001b[0m\u001b[0;34m.\u001b[0m\u001b[0mmonth\u001b[0m\u001b[0;34m,\u001b[0m \u001b[0mdate\u001b[0m\u001b[0;34m.\u001b[0m\u001b[0myear\u001b[0m\u001b[0;34m)\u001b[0m\u001b[0;34m\u001b[0m\u001b[0;34m\u001b[0m\u001b[0m\n\u001b[0m\u001b[1;32m      4\u001b[0m \u001b[0mql\u001b[0m\u001b[0;34m.\u001b[0m\u001b[0mSettings\u001b[0m\u001b[0;34m.\u001b[0m\u001b[0minstance\u001b[0m\u001b[0;34m(\u001b[0m\u001b[0;34m)\u001b[0m\u001b[0;34m.\u001b[0m\u001b[0mevaluationDate\u001b[0m \u001b[0;34m=\u001b[0m \u001b[0meval_date\u001b[0m\u001b[0;34m\u001b[0m\u001b[0;34m\u001b[0m\u001b[0m\n",
            "\u001b[0;32m/usr/local/lib/python3.6/dist-packages/QuantLib/QuantLib.py\u001b[0m in \u001b[0;36m__init__\u001b[0;34m(self, *args)\u001b[0m\n\u001b[1;32m    425\u001b[0m \u001b[0;34m\u001b[0m\u001b[0m\n\u001b[1;32m    426\u001b[0m     \u001b[0;32mdef\u001b[0m \u001b[0m__init__\u001b[0m\u001b[0;34m(\u001b[0m\u001b[0mself\u001b[0m\u001b[0;34m,\u001b[0m \u001b[0;34m*\u001b[0m\u001b[0margs\u001b[0m\u001b[0;34m)\u001b[0m\u001b[0;34m:\u001b[0m\u001b[0;34m\u001b[0m\u001b[0;34m\u001b[0m\u001b[0m\n\u001b[0;32m--> 427\u001b[0;31m         \u001b[0m_QuantLib\u001b[0m\u001b[0;34m.\u001b[0m\u001b[0mDate_swiginit\u001b[0m\u001b[0;34m(\u001b[0m\u001b[0mself\u001b[0m\u001b[0;34m,\u001b[0m \u001b[0m_QuantLib\u001b[0m\u001b[0;34m.\u001b[0m\u001b[0mnew_Date\u001b[0m\u001b[0;34m(\u001b[0m\u001b[0;34m*\u001b[0m\u001b[0margs\u001b[0m\u001b[0;34m)\u001b[0m\u001b[0;34m)\u001b[0m\u001b[0;34m\u001b[0m\u001b[0;34m\u001b[0m\u001b[0m\n\u001b[0m\u001b[1;32m    428\u001b[0m \u001b[0;34m\u001b[0m\u001b[0m\n\u001b[1;32m    429\u001b[0m     \u001b[0;32mdef\u001b[0m \u001b[0mweekdayNumber\u001b[0m\u001b[0;34m(\u001b[0m\u001b[0mself\u001b[0m\u001b[0;34m)\u001b[0m\u001b[0;34m:\u001b[0m\u001b[0;34m\u001b[0m\u001b[0;34m\u001b[0m\u001b[0m\n",
            "\u001b[0;31mTypeError\u001b[0m: Wrong number or type of arguments for overloaded function 'new_Date'.\n  Possible C/C++ prototypes are:\n    Date::Date()\n    Date::Date(Day,Month,Year)\n    Date::Date(Day,Month,Year,Hour,Minute,Second,Millisecond,Microsecond)\n    Date::Date(Day,Month,Year,Hour,Minute,Second,Millisecond)\n    Date::Date(Day,Month,Year,Hour,Minute,Second)\n    Date::Date(BigInteger)\n    Date::Date(std::string const &,std::string)\n"
          ]
        }
      ]
    },
    {
      "cell_type": "code",
      "metadata": {
        "id": "3eaLtTtEoYs1"
      },
      "source": [
        "#Set Market Conventions\n",
        "calendar = ql.UnitedStates()\n",
        "convention = ql.ModifiedFollowing\n",
        "day_counter = ql.ActualActual()\n",
        "end_of_month = True\n",
        "fixing_days = 1\n",
        "face_amount = 100\n",
        "coupon_frequency = ql.Period(ql.Semiannual)"
      ],
      "execution_count": 26,
      "outputs": []
    },
    {
      "cell_type": "code",
      "metadata": {
        "colab": {
          "base_uri": "https://localhost:8080/",
          "height": 207
        },
        "id": "QeIoWk60o4m9",
        "outputId": "e42efabc-53cf-48c0-8dd3-51ce7dce0daa"
      },
      "source": [
        "#Construct Treasury Bill Helpers\n",
        "bill_helpers = [ql.DepositRateHelper(ql.QuoteHandle(ql.SimpleQuote(r/100.0)),\n",
        "                                     ql.Period(m, ql.Days),\n",
        "                                     fixing_days,\n",
        "                                     calendar,\n",
        "                                     convention,\n",
        "                                     end_of_month,\n",
        "                                     day_counter)\n",
        "for r, m in zip(tbill['price'], tbill['days'])]"
      ],
      "execution_count": 28,
      "outputs": [
        {
          "output_type": "error",
          "ename": "NameError",
          "evalue": "ignored",
          "traceback": [
            "\u001b[0;31m---------------------------------------------------------------------------\u001b[0m",
            "\u001b[0;31mNameError\u001b[0m                                 Traceback (most recent call last)",
            "\u001b[0;32m<ipython-input-28-e468f86dd6dd>\u001b[0m in \u001b[0;36m<module>\u001b[0;34m()\u001b[0m\n\u001b[1;32m      7\u001b[0m                                      \u001b[0mend_of_month\u001b[0m\u001b[0;34m,\u001b[0m\u001b[0;34m\u001b[0m\u001b[0;34m\u001b[0m\u001b[0m\n\u001b[1;32m      8\u001b[0m                                      day_counter)\n\u001b[0;32m----> 9\u001b[0;31m for r, m in zip(tbill['price'], tbill['days'])]\n\u001b[0m",
            "\u001b[0;31mNameError\u001b[0m: name 'tbill' is not defined"
          ]
        }
      ]
    }
  ]
}